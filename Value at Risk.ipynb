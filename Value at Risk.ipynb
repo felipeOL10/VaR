{
 "cells": [
  {
   "cell_type": "code",
   "execution_count": 1,
   "metadata": {},
   "outputs": [],
   "source": [
    "import pandas as pd\n",
    "from pandas_datareader import data as pdr\n",
    "import yfinance  as yf\n",
    "import numpy as np\n",
    "import datetime as dt\n",
    "from scipy.stats import norm\n",
    "import matplotlib.pyplot as plt\n",
    "from tabulate import tabulate"
   ]
  },
  {
   "cell_type": "markdown",
   "metadata": {},
   "source": [
    "The Value at Risk is a statistic that provides an estimate of the maximum loss from a given position or portfolio over a period of time."
   ]
  },
  {
   "cell_type": "markdown",
   "metadata": {},
   "source": [
    "The inputs necessary for the implementation of the variance-covariance method to calculate the Value at Risk are: confidance intervall, standard diviation and mean."
   ]
  },
  {
   "cell_type": "code",
   "execution_count": 5,
   "metadata": {},
   "outputs": [
    {
     "name": "stdout",
     "output_type": "stream",
     "text": [
      "[*********************100%***********************]  10 of 10 completed\n"
     ]
    },
    {
     "data": {
      "text/html": [
       "<div>\n",
       "<style scoped>\n",
       "    .dataframe tbody tr th:only-of-type {\n",
       "        vertical-align: middle;\n",
       "    }\n",
       "\n",
       "    .dataframe tbody tr th {\n",
       "        vertical-align: top;\n",
       "    }\n",
       "\n",
       "    .dataframe thead th {\n",
       "        text-align: right;\n",
       "    }\n",
       "</style>\n",
       "<table border=\"1\" class=\"dataframe\">\n",
       "  <thead>\n",
       "    <tr style=\"text-align: right;\">\n",
       "      <th></th>\n",
       "      <th>AAPL</th>\n",
       "      <th>AMZN</th>\n",
       "      <th>DIS</th>\n",
       "      <th>GOOGL</th>\n",
       "      <th>MSFT</th>\n",
       "      <th>NVDA</th>\n",
       "      <th>QCOM</th>\n",
       "      <th>SHOP</th>\n",
       "      <th>TSLA</th>\n",
       "      <th>V</th>\n",
       "    </tr>\n",
       "    <tr>\n",
       "      <th>Date</th>\n",
       "      <th></th>\n",
       "      <th></th>\n",
       "      <th></th>\n",
       "      <th></th>\n",
       "      <th></th>\n",
       "      <th></th>\n",
       "      <th></th>\n",
       "      <th></th>\n",
       "      <th></th>\n",
       "      <th></th>\n",
       "    </tr>\n",
       "  </thead>\n",
       "  <tbody>\n",
       "    <tr>\n",
       "      <th>2020-01-02</th>\n",
       "      <td>75.087502</td>\n",
       "      <td>94.900497</td>\n",
       "      <td>148.199997</td>\n",
       "      <td>1368.680054</td>\n",
       "      <td>160.619995</td>\n",
       "      <td>59.977501</td>\n",
       "      <td>88.690002</td>\n",
       "      <td>407.809998</td>\n",
       "      <td>86.052002</td>\n",
       "      <td>191.119995</td>\n",
       "    </tr>\n",
       "    <tr>\n",
       "      <th>2020-01-03</th>\n",
       "      <td>74.357498</td>\n",
       "      <td>93.748497</td>\n",
       "      <td>146.500000</td>\n",
       "      <td>1361.520020</td>\n",
       "      <td>158.619995</td>\n",
       "      <td>59.017502</td>\n",
       "      <td>87.019997</td>\n",
       "      <td>404.290009</td>\n",
       "      <td>88.601997</td>\n",
       "      <td>189.600006</td>\n",
       "    </tr>\n",
       "    <tr>\n",
       "      <th>2020-01-06</th>\n",
       "      <td>74.949997</td>\n",
       "      <td>95.143997</td>\n",
       "      <td>145.649994</td>\n",
       "      <td>1397.810059</td>\n",
       "      <td>159.029999</td>\n",
       "      <td>59.264999</td>\n",
       "      <td>86.510002</td>\n",
       "      <td>413.329987</td>\n",
       "      <td>90.307999</td>\n",
       "      <td>189.190002</td>\n",
       "    </tr>\n",
       "    <tr>\n",
       "      <th>2020-01-07</th>\n",
       "      <td>74.597504</td>\n",
       "      <td>95.343002</td>\n",
       "      <td>145.699997</td>\n",
       "      <td>1395.109985</td>\n",
       "      <td>157.580002</td>\n",
       "      <td>59.982498</td>\n",
       "      <td>88.970001</td>\n",
       "      <td>414.500000</td>\n",
       "      <td>93.811996</td>\n",
       "      <td>188.690002</td>\n",
       "    </tr>\n",
       "    <tr>\n",
       "      <th>2020-01-08</th>\n",
       "      <td>75.797501</td>\n",
       "      <td>94.598503</td>\n",
       "      <td>145.399994</td>\n",
       "      <td>1405.040039</td>\n",
       "      <td>160.089996</td>\n",
       "      <td>60.095001</td>\n",
       "      <td>88.709999</td>\n",
       "      <td>418.100006</td>\n",
       "      <td>98.428001</td>\n",
       "      <td>191.919998</td>\n",
       "    </tr>\n",
       "  </tbody>\n",
       "</table>\n",
       "</div>"
      ],
      "text/plain": [
       "                 AAPL       AMZN         DIS        GOOGL        MSFT  \\\n",
       "Date                                                                    \n",
       "2020-01-02  75.087502  94.900497  148.199997  1368.680054  160.619995   \n",
       "2020-01-03  74.357498  93.748497  146.500000  1361.520020  158.619995   \n",
       "2020-01-06  74.949997  95.143997  145.649994  1397.810059  159.029999   \n",
       "2020-01-07  74.597504  95.343002  145.699997  1395.109985  157.580002   \n",
       "2020-01-08  75.797501  94.598503  145.399994  1405.040039  160.089996   \n",
       "\n",
       "                 NVDA       QCOM        SHOP       TSLA           V  \n",
       "Date                                                                 \n",
       "2020-01-02  59.977501  88.690002  407.809998  86.052002  191.119995  \n",
       "2020-01-03  59.017502  87.019997  404.290009  88.601997  189.600006  \n",
       "2020-01-06  59.264999  86.510002  413.329987  90.307999  189.190002  \n",
       "2020-01-07  59.982498  88.970001  414.500000  93.811996  188.690002  \n",
       "2020-01-08  60.095001  88.709999  418.100006  98.428001  191.919998  "
      ]
     },
     "execution_count": 5,
     "metadata": {},
     "output_type": "execute_result"
    }
   ],
   "source": [
    "ticker_symbols = [\"TSLA\", \"AAPL\", \"GOOGL\", \"AMZN\", \"SHOP\", \"MSFT\", \"DIS\", \"QCOM\", \"NVDA\", \"V\"]\n",
    "\n",
    "# 10% for each stock\n",
    "weights = np.array([0.1, 0.1, 0.1, 0.1, 0.1, 0.1, 0.1, 0.1, 0.1, 0.1])\n",
    "\n",
    "initial_invest = 1000000\n",
    "\n",
    "# Get close prices data \n",
    "data = yf.download(ticker_symbols, start=\"2020-01-01\", end=\"2022-06-22\")[\"Close\"]\n",
    "data.head()"
   ]
  },
  {
   "cell_type": "code",
   "execution_count": 6,
   "metadata": {},
   "outputs": [
    {
     "name": "stdout",
     "output_type": "stream",
     "text": [
      "             AAPL        AMZN         DIS       GOOGL        MSFT        NVDA  \\\n",
      "count  621.000000  621.000000  621.000000  621.000000  621.000000  621.000000   \n",
      "mean     0.001231    0.000494   -0.000461    0.001008    0.000975    0.002247   \n",
      "std      0.023486    0.023451    0.023930    0.021030    0.021841    0.034928   \n",
      "min     -0.128647   -0.140494   -0.129846   -0.116342   -0.147390   -0.184521   \n",
      "25%     -0.010092   -0.011653   -0.011474   -0.008267   -0.009210   -0.016006   \n",
      "50%      0.000988    0.001084   -0.001175    0.001845    0.000965    0.003060   \n",
      "75%      0.014158    0.012076    0.010535    0.012060    0.012335    0.022708   \n",
      "max      0.119808    0.135359    0.144123    0.092411    0.142169    0.171564   \n",
      "\n",
      "             QCOM        SHOP        TSLA           V  \n",
      "count  621.000000  621.000000  621.000000  621.000000  \n",
      "mean     0.000959    0.000627    0.004504    0.000269  \n",
      "std      0.028860    0.044094    0.046901    0.022018  \n",
      "min     -0.149453   -0.175518   -0.210628   -0.135472  \n",
      "25%     -0.013484   -0.023298   -0.020566   -0.009935  \n",
      "50%      0.000345    0.001623    0.002618    0.000721  \n",
      "75%      0.015636    0.024126    0.027533    0.010681  \n",
      "max      0.152209    0.186528    0.198949    0.138426  \n"
     ]
    }
   ],
   "source": [
    "returns = data.pct_change()\n",
    "returns.head()"
   ]
  },
  {
   "cell_type": "code",
   "execution_count": 7,
   "metadata": {},
   "outputs": [
    {
     "data": {
      "text/html": [
       "<div>\n",
       "<style scoped>\n",
       "    .dataframe tbody tr th:only-of-type {\n",
       "        vertical-align: middle;\n",
       "    }\n",
       "\n",
       "    .dataframe tbody tr th {\n",
       "        vertical-align: top;\n",
       "    }\n",
       "\n",
       "    .dataframe thead th {\n",
       "        text-align: right;\n",
       "    }\n",
       "</style>\n",
       "<table border=\"1\" class=\"dataframe\">\n",
       "  <thead>\n",
       "    <tr style=\"text-align: right;\">\n",
       "      <th></th>\n",
       "      <th>AAPL</th>\n",
       "      <th>AMZN</th>\n",
       "      <th>DIS</th>\n",
       "      <th>GOOGL</th>\n",
       "      <th>MSFT</th>\n",
       "      <th>NVDA</th>\n",
       "      <th>QCOM</th>\n",
       "      <th>SHOP</th>\n",
       "      <th>TSLA</th>\n",
       "      <th>V</th>\n",
       "    </tr>\n",
       "  </thead>\n",
       "  <tbody>\n",
       "    <tr>\n",
       "      <th>count</th>\n",
       "      <td>621.000000</td>\n",
       "      <td>621.000000</td>\n",
       "      <td>621.000000</td>\n",
       "      <td>621.000000</td>\n",
       "      <td>621.000000</td>\n",
       "      <td>621.000000</td>\n",
       "      <td>621.000000</td>\n",
       "      <td>621.000000</td>\n",
       "      <td>621.000000</td>\n",
       "      <td>621.000000</td>\n",
       "    </tr>\n",
       "    <tr>\n",
       "      <th>mean</th>\n",
       "      <td>0.001231</td>\n",
       "      <td>0.000494</td>\n",
       "      <td>-0.000461</td>\n",
       "      <td>0.001008</td>\n",
       "      <td>0.000975</td>\n",
       "      <td>0.002247</td>\n",
       "      <td>0.000959</td>\n",
       "      <td>0.000627</td>\n",
       "      <td>0.004504</td>\n",
       "      <td>0.000269</td>\n",
       "    </tr>\n",
       "    <tr>\n",
       "      <th>std</th>\n",
       "      <td>0.023486</td>\n",
       "      <td>0.023451</td>\n",
       "      <td>0.023930</td>\n",
       "      <td>0.021030</td>\n",
       "      <td>0.021841</td>\n",
       "      <td>0.034928</td>\n",
       "      <td>0.028860</td>\n",
       "      <td>0.044094</td>\n",
       "      <td>0.046901</td>\n",
       "      <td>0.022018</td>\n",
       "    </tr>\n",
       "    <tr>\n",
       "      <th>min</th>\n",
       "      <td>-0.128647</td>\n",
       "      <td>-0.140494</td>\n",
       "      <td>-0.129846</td>\n",
       "      <td>-0.116342</td>\n",
       "      <td>-0.147390</td>\n",
       "      <td>-0.184521</td>\n",
       "      <td>-0.149453</td>\n",
       "      <td>-0.175518</td>\n",
       "      <td>-0.210628</td>\n",
       "      <td>-0.135472</td>\n",
       "    </tr>\n",
       "    <tr>\n",
       "      <th>25%</th>\n",
       "      <td>-0.010092</td>\n",
       "      <td>-0.011653</td>\n",
       "      <td>-0.011474</td>\n",
       "      <td>-0.008267</td>\n",
       "      <td>-0.009210</td>\n",
       "      <td>-0.016006</td>\n",
       "      <td>-0.013484</td>\n",
       "      <td>-0.023298</td>\n",
       "      <td>-0.020566</td>\n",
       "      <td>-0.009935</td>\n",
       "    </tr>\n",
       "    <tr>\n",
       "      <th>50%</th>\n",
       "      <td>0.000988</td>\n",
       "      <td>0.001084</td>\n",
       "      <td>-0.001175</td>\n",
       "      <td>0.001845</td>\n",
       "      <td>0.000965</td>\n",
       "      <td>0.003060</td>\n",
       "      <td>0.000345</td>\n",
       "      <td>0.001623</td>\n",
       "      <td>0.002618</td>\n",
       "      <td>0.000721</td>\n",
       "    </tr>\n",
       "    <tr>\n",
       "      <th>75%</th>\n",
       "      <td>0.014158</td>\n",
       "      <td>0.012076</td>\n",
       "      <td>0.010535</td>\n",
       "      <td>0.012060</td>\n",
       "      <td>0.012335</td>\n",
       "      <td>0.022708</td>\n",
       "      <td>0.015636</td>\n",
       "      <td>0.024126</td>\n",
       "      <td>0.027533</td>\n",
       "      <td>0.010681</td>\n",
       "    </tr>\n",
       "    <tr>\n",
       "      <th>max</th>\n",
       "      <td>0.119808</td>\n",
       "      <td>0.135359</td>\n",
       "      <td>0.144123</td>\n",
       "      <td>0.092411</td>\n",
       "      <td>0.142169</td>\n",
       "      <td>0.171564</td>\n",
       "      <td>0.152209</td>\n",
       "      <td>0.186528</td>\n",
       "      <td>0.198949</td>\n",
       "      <td>0.138426</td>\n",
       "    </tr>\n",
       "  </tbody>\n",
       "</table>\n",
       "</div>"
      ],
      "text/plain": [
       "             AAPL        AMZN         DIS       GOOGL        MSFT        NVDA  \\\n",
       "count  621.000000  621.000000  621.000000  621.000000  621.000000  621.000000   \n",
       "mean     0.001231    0.000494   -0.000461    0.001008    0.000975    0.002247   \n",
       "std      0.023486    0.023451    0.023930    0.021030    0.021841    0.034928   \n",
       "min     -0.128647   -0.140494   -0.129846   -0.116342   -0.147390   -0.184521   \n",
       "25%     -0.010092   -0.011653   -0.011474   -0.008267   -0.009210   -0.016006   \n",
       "50%      0.000988    0.001084   -0.001175    0.001845    0.000965    0.003060   \n",
       "75%      0.014158    0.012076    0.010535    0.012060    0.012335    0.022708   \n",
       "max      0.119808    0.135359    0.144123    0.092411    0.142169    0.171564   \n",
       "\n",
       "             QCOM        SHOP        TSLA           V  \n",
       "count  621.000000  621.000000  621.000000  621.000000  \n",
       "mean     0.000959    0.000627    0.004504    0.000269  \n",
       "std      0.028860    0.044094    0.046901    0.022018  \n",
       "min     -0.149453   -0.175518   -0.210628   -0.135472  \n",
       "25%     -0.013484   -0.023298   -0.020566   -0.009935  \n",
       "50%      0.000345    0.001623    0.002618    0.000721  \n",
       "75%      0.015636    0.024126    0.027533    0.010681  \n",
       "max      0.152209    0.186528    0.198949    0.138426  "
      ]
     },
     "execution_count": 7,
     "metadata": {},
     "output_type": "execute_result"
    }
   ],
   "source": [
    "returns.describe()"
   ]
  },
  {
   "cell_type": "code",
   "execution_count": 9,
   "metadata": {},
   "outputs": [
    {
     "name": "stdout",
     "output_type": "stream",
     "text": [
      "           AAPL      AMZN       DIS     GOOGL      MSFT      NVDA      QCOM  \\\n",
      "AAPL   0.000552  0.000361  0.000271  0.000355  0.000416  0.000585  0.000454   \n",
      "AMZN   0.000361  0.000550  0.000228  0.000324  0.000352  0.000539  0.000392   \n",
      "DIS    0.000271  0.000228  0.000573  0.000277  0.000276  0.000377  0.000302   \n",
      "GOOGL  0.000355  0.000324  0.000277  0.000442  0.000375  0.000522  0.000406   \n",
      "MSFT   0.000416  0.000352  0.000276  0.000375  0.000477  0.000586  0.000440   \n",
      "NVDA   0.000585  0.000539  0.000377  0.000522  0.000586  0.001220  0.000726   \n",
      "QCOM   0.000454  0.000392  0.000302  0.000406  0.000440  0.000726  0.000833   \n",
      "SHOP   0.000545  0.000620  0.000330  0.000481  0.000542  0.000987  0.000605   \n",
      "TSLA   0.000569  0.000514  0.000379  0.000449  0.000525  0.000894  0.000615   \n",
      "V      0.000328  0.000224  0.000354  0.000307  0.000331  0.000441  0.000346   \n",
      "\n",
      "           SHOP      TSLA         V  \n",
      "AAPL   0.000545  0.000569  0.000328  \n",
      "AMZN   0.000620  0.000514  0.000224  \n",
      "DIS    0.000330  0.000379  0.000354  \n",
      "GOOGL  0.000481  0.000449  0.000307  \n",
      "MSFT   0.000542  0.000525  0.000331  \n",
      "NVDA   0.000987  0.000894  0.000441  \n",
      "QCOM   0.000605  0.000615  0.000346  \n",
      "SHOP   0.001944  0.001013  0.000395  \n",
      "TSLA   0.001013  0.002200  0.000397  \n",
      "V      0.000395  0.000397  0.000485  \n"
     ]
    }
   ],
   "source": [
    "# Create covariance matrix\n",
    "cov = returns.cov()\n",
    "print(cov)"
   ]
  },
  {
   "cell_type": "code",
   "execution_count": 10,
   "metadata": {},
   "outputs": [],
   "source": [
    "# Mean returns for each stock\n",
    "stock_mean_returns = returns.mean()\n",
    "# Mean returns for portfolio\n",
    "portfolio_mean_return = stock_mean_returns.dot(weights)\n",
    "# Portfolio std\n",
    "portfolio_std = np.sqrt(weights.T.dot(cov).dot(weights))\n",
    "# Mean investment\n",
    "mean_invstment = (1+portfolio_mean_return) * initial_invest\n",
    "# Std of the investment\n",
    "std_inv = initial_invest * portfolio_std"
   ]
  },
  {
   "cell_type": "code",
   "execution_count": 11,
   "metadata": {},
   "outputs": [
    {
     "name": "stdout",
     "output_type": "stream",
     "text": [
      "Confidance Level      Value at Risk    Will not exceed\n",
      "------------------  ---------------  -----------------\n",
      "90%                          972305            27694.9\n",
      "95%                          964118            35882.1\n",
      "99%                          948760            51239.8\n"
     ]
    }
   ],
   "source": [
    "# Cofidance intervall\n",
    "VaR_90 = norm.ppf(1-0.9, mean_invstment, std_inv)\n",
    "VaR_95 = norm.ppf(1-0.95, mean_invstment, std_inv)\n",
    "VaR_99 = norm.ppf(1-0.99, mean_invstment, std_inv)\n",
    "loss_90 = initial_invest - VaR_90\n",
    "loss_95 = initial_invest - VaR_95\n",
    "loss_99 = initial_invest - VaR_99\n",
    "\n",
    "print(tabulate([['90%', VaR_90, loss_90], ['95%', VaR_95,loss_95], ['99%', VaR_99, loss_99]], headers=['Confidance Level', 'Value at Risk', 'Will not exceed']))"
   ]
  },
  {
   "cell_type": "markdown",
   "metadata": {},
   "source": [
    "With a 90% confidance, our portfolio of 1M will not exceed losses greater than 27.6K usd over one day period. In 95% confidance that value is 35.8k and at 99% is 51.2k."
   ]
  },
  {
   "cell_type": "code",
   "execution_count": 12,
   "metadata": {},
   "outputs": [
    {
     "name": "stdout",
     "output_type": "stream",
     "text": [
      "1 day VaR at 95% confidence: 35882.09\n",
      "2 day VaR at 95% confidence: 50744.94\n",
      "3 day VaR at 95% confidence: 62149.6\n",
      "4 day VaR at 95% confidence: 71764.18\n",
      "5 day VaR at 95% confidence: 80234.79\n",
      "6 day VaR at 95% confidence: 87892.81\n",
      "7 day VaR at 95% confidence: 94935.08\n",
      "8 day VaR at 95% confidence: 101489.87\n",
      "9 day VaR at 95% confidence: 107646.27\n",
      "10 day VaR at 95% confidence: 113469.13\n",
      "11 day VaR at 95% confidence: 119007.43\n",
      "12 day VaR at 95% confidence: 124299.2\n",
      "13 day VaR at 95% confidence: 129374.71\n",
      "14 day VaR at 95% confidence: 134258.48\n",
      "15 day VaR at 95% confidence: 138970.73\n"
     ]
    },
    {
     "data": {
      "text/plain": [
       "<function matplotlib.pyplot.show(close=None, block=None)>"
      ]
     },
     "execution_count": 12,
     "metadata": {},
     "output_type": "execute_result"
    },
    {
     "data": {
      "image/png": "[encoded data removed]",
      "text/plain": [
       "<Figure size 432x288 with 1 Axes>"
      ]
     },
     "metadata": {
      "needs_background": "light"
     },
     "output_type": "display_data"
    }
   ],
   "source": [
    "# Calculate n Day VaR\n",
    "var_array = []\n",
    "num_days = int(15)\n",
    "for x in range(1, num_days+1):    \n",
    "    var_array.append(np.round(loss_95 * np.sqrt(x),2))\n",
    "    print(str(x) + \" day VaR at 95% confidence: \" + str(np.round(loss_95 * np.sqrt(x),2)))\n",
    "\n",
    "# Build plot\n",
    "plt.xlabel(\"Day #\")\n",
    "plt.ylabel(\"Max portfolio loss (USD)\")\n",
    "plt.title(\"Max portfolio loss (VaR) over 15-day period\")\n",
    "plt.plot(var_array, \"r\")\n",
    "plt.show"
   ]
  }
 ],
 "metadata": {
  "kernelspec": {
   "display_name": "Python 3.10.2 64-bit",
   "language": "python",
   "name": "python3"
  },
  "language_info": {
   "codemirror_mode": {
    "name": "ipython",
    "version": 3
   },
   "file_extension": ".py",
   "mimetype": "text/x-python",
   "name": "python",
   "nbconvert_exporter": "python",
   "pygments_lexer": "ipython3",
   "version": "3.10.2"
  },
  "orig_nbformat": 4,
  "vscode": {
   "interpreter": {
    "hash": "eea19058e2a07bec9e1a00d3030bcf694e21068cbacf36ecad2bd626775d8888"
   }
  }
 },
 "nbformat": 4,
 "nbformat_minor": 2
}
